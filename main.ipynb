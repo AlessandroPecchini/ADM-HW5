{
 "cells": [
  {
   "cell_type": "markdown",
   "metadata": {},
   "source": [
    "# Homework 5 - Exploring StackOverflow!\n",
    "\n",
    "![Alt Text](https://www.linuxadictos.com/wp-content/uploads/stack-overflow-1024x244.jpg.webp)\n",
    "\n",
    "## 1. Data\n",
    "\n",
    "The first step, as always, is to download the data you will be working on. You can download the data to build the system [here](https://snap.stanford.edu/data/sx-stackoverflow.html). Please download the **3 files** which can be found under the description ['Answers to questions', 'Comments to questions', 'Comments to answers']\n",
    "  \n",
    "  In particular, each file will contain the following information:\n",
    "  * __Answers to questions__ - User u answered user v's question at time t\n",
    "  * __Comments to questions__ - User u commented on user v's question at time t\n",
    "  * __Comments to answers__  - User u commented on user v's answer at time t\n",
    "\n",
    "Unless specified differently we will handle the 3 graphs together, therefore as a first step please think about a nice and appropriate manner to merge them. You are free to merge them as you prefer, but we do expect the output graph to be a weighted gragh. For instance, imagine you have a user X has answered to a question and comment from user Y. In the combined graph we expect you to have a weighted link between these two users. How you construct this weight is fully up to you :). If the algorithm we request you does not have a weighted variant please mention it clearly and convert the weighted graph into an unweighted one.\n",
    "\n",
    "Some recommendations that might be helpful for dealing with the data is:\n",
    "\n",
    " - The date is provided with a very high precision, please round it to a reasonable value (e.g. day, hours, etc. whatever you feel makes more sense)\n",
    " - You might also see that there are several answers/comments which the user answer do to themselves... please deal with these accordingly and explain what you have decided to do. \n",
    " - We are aware that the data is a lot. For this reason we typically ask you to only focus on a smaller intrerval of time. Please test all your implementations on a sufficiently large interval of time, and use this in your benefit to get the best possible results. "
   ]
  },
  {
   "cell_type": "markdown",
   "metadata": {},
   "source": [
    "--------------------------------------------------------------------------------------------------------------------------------------------------------------------------------------\n",
    "\n",
    "## Solution 1\n",
    "\n",
    "### Preprocessing of the txt files\n",
    "\n",
    "#### Timestamps\n",
    "The data are to be cleaned, starting from the timestamps I've made two operations:\n",
    "\n",
    "1) The dataset are really huge and the timestamp are too precise, so I've decided to consider only time **windows of at least one day**.\n",
    "    in order to to this I've built a function (```cast_times```) that for each line of the txt files takes the timestamp and replace it with the same timestamp subtracting the reminder of the division for 86400 (number of seconds in a day)\n",
    "2) The timestamps refers to the 01 Jan 1970, a little bit out of date... So I've decided to add to every timestamp the number 1221436800 that's the timestamp of the day   when (accordingly with [wikipedia en](https://en.wikipedia.org/wiki/Stack_Overflow)) the first public beta release of stackoverflow has been created.\n",
    "\n",
    "#### Format\n",
    "It's decisely more easy to work with csv files, so I've saved the results into csv files"
   ]
  },
  {
   "cell_type": "code",
   "execution_count": 1,
   "metadata": {},
   "outputs": [],
   "source": [
    "import functions\n",
    "import networkx as nx\n",
    "import math\n",
    "import statistics\n",
    "import collections\n",
    "from tabulate import tabulate\n",
    "import seaborn as sns\n",
    "import matplotlib.pyplot as plt "
   ]
  },
  {
   "cell_type": "code",
   "execution_count": 56,
   "metadata": {},
   "outputs": [],
   "source": [
    "import heapq\n",
    "\n",
    "class PriorityQueue():\n",
    "    '''\n",
    "        A class that wraps the implementation of the heap with a priority queque.\n",
    "        Each inserted node has to be in the form (cost, index, node) where index \n",
    "        will be used by heapq in the case that the comparison among cost fails\n",
    "    '''\n",
    "\n",
    "    def __init__(self, nodes):\n",
    "        self.data = nodes\n",
    "        heapq.heapify(self.data)\n",
    "\n",
    "    def get(self):\n",
    "        return heapq.heappop(self.data)\n",
    "\n",
    "    def push(self, node):\n",
    "        heapq.heappush(self.data, node)\n",
    "        \n",
    "    def empty(self):\n",
    "        return len(self.data)\n",
    "\n",
    "def my_dijkstra(G, i, j):\n",
    "    '''\n",
    "        The implementation of Dijkstra algorithm it returns a list of tuple made by:\n",
    "        (the node, their father and their cost) in order of visit\n",
    "\n",
    "    '''\n",
    "    visited = set()\n",
    "    idx=0\n",
    "    frounteer = PriorityQueue([(0,idx,(i,i, 0))])\n",
    "    path = []\n",
    "    while frounteer.empty():\n",
    "        f = frounteer.get()[2]\n",
    "        node, father, cost = f\n",
    "        idx += 1\n",
    "        if node in visited: continue\n",
    "        # If the node is already in the frounteer with a greater cost it will be drown after this (it'll be already visited)\n",
    "        path.append((node, father, cost))\n",
    "        if node == j:\n",
    "            return path\n",
    "    \n",
    "        visited.add(node)\n",
    "        if node not in G:\n",
    "            continue\n",
    "        for son, weight in G[node]:\n",
    "            if not son in visited:\n",
    "                frounteer.push((cost+weight,cost+weight,(son, node, cost+weight)))\n",
    "    return path"
   ]
  },
  {
   "cell_type": "code",
   "execution_count": 2,
   "metadata": {},
   "outputs": [
    {
     "name": "stdout",
     "output_type": "stream",
     "text": [
      "Starting preprocessing for: answer to questions\n",
      "the output file: data/original/a2q_casted.csv already exists!\n",
      "Done\n",
      "\n",
      "Starting preprocessing for: comment to answers\n",
      "the output file: data/original/c2a_casted.csv already exists!\n",
      "Done\n",
      "\n",
      "Starting preprocessing for: comment to questions\n",
      "the output file: data/original/c2q_casted.csv already exists!\n",
      "Done\n",
      "\n"
     ]
    }
   ],
   "source": [
    "print(\"Starting preprocessing for: answer to questions\")\n",
    "functions.cast_times('data/original/a2q.txt')\n",
    "print(\"Done\\n\")\n",
    "\n",
    "print(\"Starting preprocessing for: comment to answers\")\n",
    "functions.cast_times('data/original/c2a.txt')\n",
    "print(\"Done\\n\")\n",
    "\n",
    "print(\"Starting preprocessing for: comment to questions\")\n",
    "functions.cast_times('data/original/c2q.txt')\n",
    "print(\"Done\\n\")"
   ]
  },
  {
   "cell_type": "markdown",
   "metadata": {},
   "source": [
    "### Exploring the data\n",
    "\n",
    "In the following cells I've analysed the date range over which the relationships are distributed and if there's some user that is connected in some way to itself"
   ]
  },
  {
   "cell_type": "code",
   "execution_count": 3,
   "metadata": {},
   "outputs": [],
   "source": [
    "import pandas as pd\n",
    "\n",
    "# Reading the processed csv files\n",
    "a2q = pd.read_csv('data/original/a2q_casted.csv', header='infer')\n",
    "c2a = pd.read_csv('data/original/c2a_casted.csv', header='infer')\n",
    "c2q = pd.read_csv('data/original/c2q_casted.csv', header='infer')"
   ]
  },
  {
   "cell_type": "code",
   "execution_count": 4,
   "metadata": {},
   "outputs": [
    {
     "name": "stdout",
     "output_type": "stream",
     "text": [
      "a2q:\n",
      "\tmin_timestamp: 1221436800 in_date: 2008-09-15 02:00:00\n",
      "\tmax_timestamp: 1227398400 in_date: 2008-11-23 01:00:00\n",
      "c2a:\n",
      "\tmin_timestamp: 1221436800 in_date: 2008-09-15 02:00:00\n",
      "\tmax_timestamp: 1227398400 in_date: 2008-11-23 01:00:00\n",
      "c2q:\n",
      "\tmin_timestamp: 1221436800 in_date: 2008-09-15 02:00:00\n",
      "\tmax_timestamp: 1227398400 in_date: 2008-11-23 01:00:00\n"
     ]
    }
   ],
   "source": [
    "from datetime import datetime\n",
    "print(\"a2q:\")\n",
    "print(f\"\\tmin_timestamp: {a2q.time.min()} in_date: {datetime.fromtimestamp(a2q.time.min())}\")\n",
    "print(f\"\\tmax_timestamp: {a2q.time.max()} in_date: {datetime.fromtimestamp(a2q.time.max())}\")\n",
    "print(\"c2a:\")\n",
    "print(f\"\\tmin_timestamp: {c2a.time.min()} in_date: {datetime.fromtimestamp(c2a.time.min())}\")\n",
    "print(f\"\\tmax_timestamp: {c2a.time.max()} in_date: {datetime.fromtimestamp(c2a.time.max())}\")\n",
    "print(\"c2q:\")\n",
    "print(f\"\\tmin_timestamp: {c2q.time.min()} in_date: {datetime.fromtimestamp(c2q.time.min())}\")\n",
    "print(f\"\\tmax_timestamp: {c2q.time.max()} in_date: {datetime.fromtimestamp(c2q.time.max())}\")"
   ]
  },
  {
   "cell_type": "code",
   "execution_count": 5,
   "metadata": {},
   "outputs": [
    {
     "data": {
      "text/html": [
       "<div>\n",
       "<style scoped>\n",
       "    .dataframe tbody tr th:only-of-type {\n",
       "        vertical-align: middle;\n",
       "    }\n",
       "\n",
       "    .dataframe tbody tr th {\n",
       "        vertical-align: top;\n",
       "    }\n",
       "\n",
       "    .dataframe thead th {\n",
       "        text-align: right;\n",
       "    }\n",
       "</style>\n",
       "<table border=\"1\" class=\"dataframe\">\n",
       "  <thead>\n",
       "    <tr style=\"text-align: right;\">\n",
       "      <th></th>\n",
       "      <th>user_from</th>\n",
       "      <th>time</th>\n",
       "      <th>user_to</th>\n",
       "    </tr>\n",
       "  </thead>\n",
       "  <tbody>\n",
       "  </tbody>\n",
       "</table>\n",
       "</div>"
      ],
      "text/plain": [
       "Empty DataFrame\n",
       "Columns: [user_from, time, user_to]\n",
       "Index: []"
      ]
     },
     "execution_count": 5,
     "metadata": {},
     "output_type": "execute_result"
    }
   ],
   "source": [
    "a2q[a2q.user_from.isin(a2q.user_to)]"
   ]
  },
  {
   "cell_type": "code",
   "execution_count": 6,
   "metadata": {},
   "outputs": [
    {
     "data": {
      "text/html": [
       "<div>\n",
       "<style scoped>\n",
       "    .dataframe tbody tr th:only-of-type {\n",
       "        vertical-align: middle;\n",
       "    }\n",
       "\n",
       "    .dataframe tbody tr th {\n",
       "        vertical-align: top;\n",
       "    }\n",
       "\n",
       "    .dataframe thead th {\n",
       "        text-align: right;\n",
       "    }\n",
       "</style>\n",
       "<table border=\"1\" class=\"dataframe\">\n",
       "  <thead>\n",
       "    <tr style=\"text-align: right;\">\n",
       "      <th></th>\n",
       "      <th>user_from</th>\n",
       "      <th>time</th>\n",
       "      <th>user_to</th>\n",
       "    </tr>\n",
       "  </thead>\n",
       "  <tbody>\n",
       "  </tbody>\n",
       "</table>\n",
       "</div>"
      ],
      "text/plain": [
       "Empty DataFrame\n",
       "Columns: [user_from, time, user_to]\n",
       "Index: []"
      ]
     },
     "execution_count": 6,
     "metadata": {},
     "output_type": "execute_result"
    }
   ],
   "source": [
    "c2a[c2a.user_from.isin(c2a.user_to)]"
   ]
  },
  {
   "cell_type": "code",
   "execution_count": 7,
   "metadata": {},
   "outputs": [
    {
     "data": {
      "text/html": [
       "<div>\n",
       "<style scoped>\n",
       "    .dataframe tbody tr th:only-of-type {\n",
       "        vertical-align: middle;\n",
       "    }\n",
       "\n",
       "    .dataframe tbody tr th {\n",
       "        vertical-align: top;\n",
       "    }\n",
       "\n",
       "    .dataframe thead th {\n",
       "        text-align: right;\n",
       "    }\n",
       "</style>\n",
       "<table border=\"1\" class=\"dataframe\">\n",
       "  <thead>\n",
       "    <tr style=\"text-align: right;\">\n",
       "      <th></th>\n",
       "      <th>user_from</th>\n",
       "      <th>time</th>\n",
       "      <th>user_to</th>\n",
       "    </tr>\n",
       "  </thead>\n",
       "  <tbody>\n",
       "  </tbody>\n",
       "</table>\n",
       "</div>"
      ],
      "text/plain": [
       "Empty DataFrame\n",
       "Columns: [user_from, time, user_to]\n",
       "Index: []"
      ]
     },
     "execution_count": 7,
     "metadata": {},
     "output_type": "execute_result"
    }
   ],
   "source": [
    "c2q[c2q.user_from.isin(c2q.user_to)]"
   ]
  },
  {
   "cell_type": "markdown",
   "metadata": {},
   "source": [
    "## Getting the graphs\n",
    "Now we've the dataframes containing:<br>\n",
    "```\tuser_from\ttime\tuser_to```<br>\n",
    "that are respectively the user id that has the interaction (comment or answer), the timestamp starting from the 15 Sep 2008 where this happened and the userid that has received it on it's action (answer or question).\n",
    "\n",
    "### Processing the dataframes\n",
    "\n",
    "1) When it's asked to build a graph for specific timestamps intuitivelly it's more convenient to **filter only the rows** where the time attribute is in the given range, so it'll be the first step.\n",
    "\n",
    "2) Once we have only the row of interest we need to estabilish how to connect the users, well it can be done using a weighted edge where the weight it's the number of interaction that two users had in the specific interval of time, so we'll pass from a dataframe with two user and one timestamp for each row to a dataframe with the two users of above and a counter that **counts the occurrencies for each pair**. This counter will be also the weight in the final graph.\n",
    "\n",
    "3) Once we've this data we've all, so the next step is to build a graph starting from it, we've done it **representing the graph as a dictionary** containing the adiacence list of each node that has exiting edges, and this structure is **wrapped into a more general class** called ```MyGraph``` that is built by a dataframe in the form (user, user, weight) and will the methods to implement functions for the part 2.\n",
    "\n",
    "## Examples\n",
    "In the following cells I'll show how most of these methods works"
   ]
  },
  {
   "cell_type": "code",
   "execution_count": 8,
   "metadata": {},
   "outputs": [
    {
     "data": {
      "text/html": [
       "<div>\n",
       "<style scoped>\n",
       "    .dataframe tbody tr th:only-of-type {\n",
       "        vertical-align: middle;\n",
       "    }\n",
       "\n",
       "    .dataframe tbody tr th {\n",
       "        vertical-align: top;\n",
       "    }\n",
       "\n",
       "    .dataframe thead th {\n",
       "        text-align: right;\n",
       "    }\n",
       "</style>\n",
       "<table border=\"1\" class=\"dataframe\">\n",
       "  <thead>\n",
       "    <tr style=\"text-align: right;\">\n",
       "      <th></th>\n",
       "      <th>user_from</th>\n",
       "      <th>time</th>\n",
       "      <th>user_to</th>\n",
       "    </tr>\n",
       "  </thead>\n",
       "  <tbody>\n",
       "    <tr>\n",
       "      <th>19205128</th>\n",
       "      <td>17389</td>\n",
       "      <td>1226534400</td>\n",
       "      <td>1444433689</td>\n",
       "    </tr>\n",
       "    <tr>\n",
       "      <th>19205129</th>\n",
       "      <td>5105044</td>\n",
       "      <td>1226534400</td>\n",
       "      <td>1443530974</td>\n",
       "    </tr>\n",
       "    <tr>\n",
       "      <th>19205130</th>\n",
       "      <td>929510</td>\n",
       "      <td>1226534400</td>\n",
       "      <td>1438280294</td>\n",
       "    </tr>\n",
       "    <tr>\n",
       "      <th>19205131</th>\n",
       "      <td>5179979</td>\n",
       "      <td>1226534400</td>\n",
       "      <td>1452019156</td>\n",
       "    </tr>\n",
       "    <tr>\n",
       "      <th>19205132</th>\n",
       "      <td>885189</td>\n",
       "      <td>1226534400</td>\n",
       "      <td>1438259025</td>\n",
       "    </tr>\n",
       "    <tr>\n",
       "      <th>...</th>\n",
       "      <td>...</td>\n",
       "      <td>...</td>\n",
       "      <td>...</td>\n",
       "    </tr>\n",
       "    <tr>\n",
       "      <th>20231193</th>\n",
       "      <td>141172</td>\n",
       "      <td>1227312000</td>\n",
       "      <td>1456018680</td>\n",
       "    </tr>\n",
       "    <tr>\n",
       "      <th>20231194</th>\n",
       "      <td>871050</td>\n",
       "      <td>1227312000</td>\n",
       "      <td>1454636399</td>\n",
       "    </tr>\n",
       "    <tr>\n",
       "      <th>20231195</th>\n",
       "      <td>5884566</td>\n",
       "      <td>1227312000</td>\n",
       "      <td>1454637029</td>\n",
       "    </tr>\n",
       "    <tr>\n",
       "      <th>20231196</th>\n",
       "      <td>4389062</td>\n",
       "      <td>1227312000</td>\n",
       "      <td>1454647251</td>\n",
       "    </tr>\n",
       "    <tr>\n",
       "      <th>20231197</th>\n",
       "      <td>3514144</td>\n",
       "      <td>1227312000</td>\n",
       "      <td>1456930060</td>\n",
       "    </tr>\n",
       "  </tbody>\n",
       "</table>\n",
       "<p>1026070 rows × 3 columns</p>\n",
       "</div>"
      ],
      "text/plain": [
       "          user_from        time     user_to\n",
       "19205128      17389  1226534400  1444433689\n",
       "19205129    5105044  1226534400  1443530974\n",
       "19205130     929510  1226534400  1438280294\n",
       "19205131    5179979  1226534400  1452019156\n",
       "19205132     885189  1226534400  1438259025\n",
       "...             ...         ...         ...\n",
       "20231193     141172  1227312000  1456018680\n",
       "20231194     871050  1227312000  1454636399\n",
       "20231195    5884566  1227312000  1454637029\n",
       "20231196    4389062  1227312000  1454647251\n",
       "20231197    3514144  1227312000  1456930060\n",
       "\n",
       "[1026070 rows x 3 columns]"
      ]
     },
     "execution_count": 8,
     "metadata": {},
     "output_type": "execute_result"
    }
   ],
   "source": [
    "filtered = functions.filter_dataframe_dates(c2q, date_range=('2008-11-13', '2008-11-23'))\n",
    "filtered"
   ]
  },
  {
   "cell_type": "code",
   "execution_count": 9,
   "metadata": {},
   "outputs": [
    {
     "name": "stdout",
     "output_type": "stream",
     "text": [
      "\tmin_timestamp: 1226534400 in_date: 2008-11-13 01:00:00\n",
      "\tmax_timestamp: 1227312000 in_date: 2008-11-22 01:00:00\n"
     ]
    }
   ],
   "source": [
    "print(f\"\\tmin_timestamp: {filtered.time.min()} in_date: {datetime.fromtimestamp(filtered.time.min())}\")\n",
    "print(f\"\\tmax_timestamp: {filtered.time.max()} in_date: {datetime.fromtimestamp(filtered.time.max())}\")"
   ]
  },
  {
   "cell_type": "code",
   "execution_count": 10,
   "metadata": {},
   "outputs": [
    {
     "data": {
      "text/html": [
       "<div>\n",
       "<style scoped>\n",
       "    .dataframe tbody tr th:only-of-type {\n",
       "        vertical-align: middle;\n",
       "    }\n",
       "\n",
       "    .dataframe tbody tr th {\n",
       "        vertical-align: top;\n",
       "    }\n",
       "\n",
       "    .dataframe thead th {\n",
       "        text-align: right;\n",
       "    }\n",
       "</style>\n",
       "<table border=\"1\" class=\"dataframe\">\n",
       "  <thead>\n",
       "    <tr style=\"text-align: right;\">\n",
       "      <th></th>\n",
       "      <th>user_from</th>\n",
       "      <th>user_to</th>\n",
       "      <th>time</th>\n",
       "    </tr>\n",
       "  </thead>\n",
       "  <tbody>\n",
       "    <tr>\n",
       "      <th>779730</th>\n",
       "      <td>5336818</td>\n",
       "      <td>1455852631</td>\n",
       "      <td>2</td>\n",
       "    </tr>\n",
       "    <tr>\n",
       "      <th>24483</th>\n",
       "      <td>62576</td>\n",
       "      <td>1454325288</td>\n",
       "      <td>2</td>\n",
       "    </tr>\n",
       "    <tr>\n",
       "      <th>789760</th>\n",
       "      <td>5355912</td>\n",
       "      <td>1442822575</td>\n",
       "      <td>2</td>\n",
       "    </tr>\n",
       "    <tr>\n",
       "      <th>684049</th>\n",
       "      <td>5165935</td>\n",
       "      <td>1452565553</td>\n",
       "      <td>1</td>\n",
       "    </tr>\n",
       "    <tr>\n",
       "      <th>684037</th>\n",
       "      <td>5165930</td>\n",
       "      <td>1438359378</td>\n",
       "      <td>1</td>\n",
       "    </tr>\n",
       "    <tr>\n",
       "      <th>...</th>\n",
       "      <td>...</td>\n",
       "      <td>...</td>\n",
       "      <td>...</td>\n",
       "    </tr>\n",
       "    <tr>\n",
       "      <th>342028</th>\n",
       "      <td>2026276</td>\n",
       "      <td>1440638002</td>\n",
       "      <td>1</td>\n",
       "    </tr>\n",
       "    <tr>\n",
       "      <th>342029</th>\n",
       "      <td>2026276</td>\n",
       "      <td>1440778413</td>\n",
       "      <td>1</td>\n",
       "    </tr>\n",
       "    <tr>\n",
       "      <th>342030</th>\n",
       "      <td>2026276</td>\n",
       "      <td>1440785486</td>\n",
       "      <td>1</td>\n",
       "    </tr>\n",
       "    <tr>\n",
       "      <th>342031</th>\n",
       "      <td>2026276</td>\n",
       "      <td>1441741834</td>\n",
       "      <td>1</td>\n",
       "    </tr>\n",
       "    <tr>\n",
       "      <th>1026066</th>\n",
       "      <td>6022243</td>\n",
       "      <td>1457254850</td>\n",
       "      <td>1</td>\n",
       "    </tr>\n",
       "  </tbody>\n",
       "</table>\n",
       "<p>1026067 rows × 3 columns</p>\n",
       "</div>"
      ],
      "text/plain": [
       "         user_from     user_to  time\n",
       "779730     5336818  1455852631     2\n",
       "24483        62576  1454325288     2\n",
       "789760     5355912  1442822575     2\n",
       "684049     5165935  1452565553     1\n",
       "684037     5165930  1438359378     1\n",
       "...            ...         ...   ...\n",
       "342028     2026276  1440638002     1\n",
       "342029     2026276  1440778413     1\n",
       "342030     2026276  1440785486     1\n",
       "342031     2026276  1441741834     1\n",
       "1026066    6022243  1457254850     1\n",
       "\n",
       "[1026067 rows x 3 columns]"
      ]
     },
     "execution_count": 10,
     "metadata": {},
     "output_type": "execute_result"
    }
   ],
   "source": [
    "weighted = functions.time_to_weight(filtered)\n",
    "weighted.sort_values(by='time', ascending=False)"
   ]
  },
  {
   "cell_type": "code",
   "execution_count": 11,
   "metadata": {},
   "outputs": [
    {
     "name": "stdout",
     "output_type": "stream",
     "text": [
      "Created a graph with 1160597 nodes\n"
     ]
    }
   ],
   "source": [
    "graph = functions.MyGraph(weighted)\n",
    "print(f\"Created a graph with {len(graph.nodes)} nodes\")"
   ]
  },
  {
   "cell_type": "markdown",
   "metadata": {},
   "source": [
    "## Putting all together\n",
    "\n",
    "We can now employee two functions of the [functions.py](functions.py) file that are usefull to create directly the graphs starting from the relative path of the csv file and the date_range over which filter the data:\n",
    "1) ```get_single_graph``` that returns a graph that refers to a single csv file\n",
    "2) ```get_global_graph``` that returns the graph that is the union f the three files. At this point is important to undestrand how to merge the edges and this is done by using three coefficients (one for type of edge) that multiplies the weight of the relative edges in the datasets. In this way we can merge the three graphs maybe saying that an answer to a question is a more important interaction than a comment to an answer that's an interaction more important to a comment to a question, so we can evaluate the first 3, the second 2 and the third 1.\n",
    "\n",
    "### WARNING!!!\n",
    "Using big time range will **drastically slow down** the execution"
   ]
  },
  {
   "cell_type": "code",
   "execution_count": 12,
   "metadata": {},
   "outputs": [
    {
     "name": "stdout",
     "output_type": "stream",
     "text": [
      "reading the files:\n",
      "\t-answer to questions: data/original/a2q_casted.csv\t-comment to answers: data/original/c2a_casted.csv\t-comment to questions: data/original/c2q_casted.csv\n",
      "done in 12.7s\n",
      "filtering the dataframes...\n",
      "done in 0.975s\n",
      "generating the weights\n",
      "- multiplying by the coefficients: [3, 2, 1]\n",
      "done in 0.78s\n",
      "putting all togheter, it may require some time...\n",
      "done in 1.491s\n",
      "retrieving the graph\n",
      "done in 12.699s tot time elapsed: 28.648\n"
     ]
    }
   ],
   "source": [
    "G = functions.get_global_graph(['data/original/a2q_casted.csv','data/original/c2a_casted.csv', 'data/original/c2q_casted.csv'], date_range=('2008-11-13', '2008-11-23'), coefficients=[3,2,1])"
   ]
  },
  {
   "cell_type": "code",
   "execution_count": 13,
   "metadata": {},
   "outputs": [
    {
     "name": "stdout",
     "output_type": "stream",
     "text": [
      "Reading the file: data/original/a2q_casted.csv\n",
      "done in 3.464s\n",
      "Retrieving the graph...\n",
      "done in 1.782s\n"
     ]
    }
   ],
   "source": [
    "g_partial = functions.get_single_graph('data/original/a2q_casted.csv', date_range=('2008-11-13', '2008-11-14'))"
   ]
  },
  {
   "cell_type": "markdown",
   "metadata": {},
   "source": [
    "## Functionalities\n",
    "\n",
    "### Functionality 1 - Get the overall features of the graph\n",
    "It takes in input:\n",
    "\n",
    "One of the 3 graphs\n",
    "The output should return:\n",
    "\n",
    "Whether the graph is directed or not\n",
    "\n",
    "Number of users\n",
    "\n",
    "Number of answers/comments\n",
    "\n",
    "Average number of links per user\n",
    "\n",
    "Density degree of the graph\n",
    "\n",
    "Whether the graph is sparse or dense\n",
    "\n"
   ]
  },
  {
   "cell_type": "code",
   "execution_count": 43,
   "metadata": {
    "id": "Mv3g_9R-utE_"
   },
   "outputs": [],
   "source": [
    "def get_friends(NODE,G):\n",
    "  adj=G.__dict__[\"adiacency_lists\"]\n",
    "  amici=[]\n",
    "  for j in range(len(adj[NODE])):\n",
    "    amici.append(adj[NODE][j][0])\n",
    "  return amici\n",
    "  \n",
    "def direction(G):\n",
    "  adj=G.__dict__[\"adiacency_lists\"]\n",
    "  for i in adj.keys():\n",
    "    for j in range(len(adj[i])):\n",
    "      if adj[i][j][0] in adj.keys():\n",
    "        if i not in get_friends(adj[i][j][0],G):\n",
    "          return False\n",
    "      elif adj[i][j][0] not in adj.keys():\n",
    "        return \"Directed\"\n",
    "  return \"Undirected\"\n",
    "\n",
    "def shape_of(G):\n",
    "  adj=G.__dict__[\"adiacency_lists\"]\n",
    "  N_ans=0\n",
    "  nodes=set(adj.keys())\n",
    "  for i in adj.keys():\n",
    "    for j in range(len(adj[i])):\n",
    "      nodes.add(adj[i][j][0])\n",
    "      N_ans+=adj[i][j][1]\n",
    "  return(len(nodes),N_ans)\n",
    "\n",
    "def dense(G):\n",
    "  adj=G.__dict__[\"adiacency_lists\"]\n",
    "  density=[]\n",
    "  for i in adj.keys():\n",
    "    density.append(len(adj[i])) \n",
    "  zeri=[0]*(shape_of(G)[1]-(len(density)))\n",
    "  zeri.extend(density)\n",
    "  E=sum(density)\n",
    "  V=shape_of(G)[1]\n",
    "  return(statistics.mean(density),zeri,(E*2)/(V*(V-1))) \n",
    "\n",
    "def Funcionality1(G):\n",
    "  return direction(G),shape_of(G),dense(G)"
   ]
  },
  {
   "cell_type": "markdown",
   "metadata": {
    "id": "tK3CsSZTR9Y9"
   },
   "source": [
    "### Visualization 1 - Visualize the overall features of the graph\n",
    "Output a table with all of the information requested. The visualization should also generate a plot of the density distribution of the graph provided as input."
   ]
  },
  {
   "cell_type": "code",
   "execution_count": 44,
   "metadata": {
    "id": "0AJKHfOaN3Ii"
   },
   "outputs": [],
   "source": [
    "def choose_the_graph():\n",
    "\n",
    "  # let the user choose  which type of graoh he is interested in\n",
    "  graph_type = input('Choose a graph: \\nA: Graph with answers to questions \\nB: Graph with comments to questions \\nC: Graph with comments to answers\\n')\n",
    "  if graph_type == 'A':\n",
    "    choose_graph= functions.get_single_graph('data/original/a2q_casted.csv')\n",
    "  elif graph_type == 'B':\n",
    "    choose_graph= functions.get_single_graph('data/original/c2q_casted.csv')\n",
    "  elif graph_type == 'C':\n",
    "    choose_graph = functions.get_single_graph('data/original/c2a_casted.csv')\n",
    "  return(choose_graph)"
   ]
  },
  {
   "cell_type": "code",
   "execution_count": 45,
   "metadata": {
    "colab": {
     "base_uri": "https://localhost:8080/",
     "height": 433
    },
    "id": "PRbevs-HSa5S",
    "outputId": "fe082b95-06a2-460a-95dc-f5ad5523bfec"
   },
   "outputs": [
    {
     "name": "stdout",
     "output_type": "stream",
     "text": [
      "Reading the file: data/original/c2a_casted.csv\n",
      "done in 5.303s\n",
      "Retrieving the graph...\n",
      "done in 155.013s\n",
      "----------  ---------------------\n",
      "Undirected  Directed\n",
      "Users       24957852\n",
      "Answers     25405374\n",
      "Avarage     17.536442277293744\n",
      "Sparse      7.872259055464513e-08\n",
      "----------  ---------------------\n"
     ]
    },
    {
     "name": "stderr",
     "output_type": "stream",
     "text": [
      "/Users/alessandro/opt/anaconda3/lib/python3.8/site-packages/seaborn/distributions.py:2557: FutureWarning: `distplot` is a deprecated function and will be removed in a future version. Please adapt your code to use either `displot` (a figure-level function with similar flexibility) or `histplot` (an axes-level function for histograms).\n",
      "  warnings.warn(msg, FutureWarning)\n"
     ]
    },
    {
     "data": {
      "image/png": "[encoded data removed]",
      "text/plain": [
       "<Figure size 432x288 with 1 Axes>"
      ]
     },
     "metadata": {},
     "output_type": "display_data"
    }
   ],
   "source": [
    "def Visualization1():\n",
    "  G = choose_the_graph()\n",
    "\n",
    "  func = Funcionality1(G)\n",
    "\n",
    "  print(tabulate([['Undirected', func[0]], ['Users', func[1][0]],['Answers', func[1][1]],['Avarage', func[2][0]],['Sparse', func[2][2]]]))\n",
    "  sns.set(style=\"darkgrid\")\n",
    "  plt.title(\"Density of degree\")\n",
    "  sns.distplot(dense(G)[1])\n",
    "  plt.show()\n",
    "Visualization1()"
   ]
  },
  {
   "cell_type": "markdown",
   "metadata": {
    "id": "W99U5eVP9cL5"
   },
   "source": [
    "### Functionality 2 - Find the best users!\n",
    "It takes in input:\n",
    "\n",
    "A user/node\n",
    "An interval of time\n",
    "One of the following metrics: Betweeness 1, PageRank, ClosenessCentrality 3, DegreeCentrality\n",
    "The output should return:\n",
    "\n",
    "The value of the given metric applied over the complete graph for the given interval of time\n",
    "Give an explanaition regarding the features of the user based on all of the metrics (e.g. if the betweeness metric is high, what does this mean in practice, what if the betweeness is low but it has a high PageRank value, etc.)"
   ]
  },
  {
   "cell_type": "code",
   "execution_count": 50,
   "metadata": {
    "id": "qA5Liqzn9cL5"
   },
   "outputs": [],
   "source": [
    "#functions \n",
    "import math\n",
    "def get_friends(NODE,G):\n",
    "  adj=G\n",
    "  amici=[]\n",
    "  if NODE in G.keys():\n",
    "    for j in range(len(adj[NODE])):\n",
    "      amici.append(adj[NODE][j][0])\n",
    "  else: \n",
    "    amici=[]\n",
    "  return amici\n",
    "\n",
    "def Nodes(G):\n",
    "  N_ans=0\n",
    "  nodes=set(G.keys())\n",
    "  for i in G.keys():\n",
    "    for j in range(len(G[i])):\n",
    "      nodes.add(G[i][j][0])\n",
    "      N_ans+=G[i][j][1]\n",
    "  return(list(nodes))\n",
    "\n",
    "def income(figlio,G):\n",
    "  padri=[]\n",
    "  for padre, figli_pesi in G.items(): \n",
    "    for figlio_peso in figli_pesi:\n",
    "      if  figlio_peso[0]== figlio:\n",
    "        padri.append(padre)\n",
    "  return padri\n",
    "\n",
    "def number_of_shortest_path(a,G):\n",
    "  Node=Nodes(G)\n",
    "  N=len(Node)\n",
    "  distance= [math.inf]*N\n",
    "  path=[0]*N\n",
    "  index_source=Node.index(a)\n",
    "  import heapq\n",
    "  queque=[]\n",
    "  distance[index_source]=0\n",
    "  path[index_source]=1\n",
    "  heapq.heappush(queque,(0,str(a)))\n",
    "  while len(queque) !=0:\n",
    "    length, current =heapq.heappop(queque)\n",
    "    curr_index=Node.index(int(current))\n",
    "    if int(current) in G.keys():\n",
    "      for i in G[int(current)]:\n",
    "        v_index=Node.index(i[0])\n",
    "        if distance[v_index]>(distance[curr_index]+i[1]):\n",
    "          heapq.heappush(queque,(length+i[1],str(i[0])))\n",
    "          distance[v_index]=distance[curr_index]+i[1]\n",
    "          path[v_index]=path[curr_index]\n",
    "        elif distance[v_index]==(distance[curr_index]+i[1]):\n",
    "          path[v_index]=path[v_index]+path[curr_index]\n",
    "    else:\n",
    "      continue\n",
    "  return path,distance\n",
    "\n",
    "def number_of_shortest_path_avoiding(a,G,node_to_avoid):\n",
    "  Node=Nodes(G)\n",
    "  N=len(Node)\n",
    "  distance= [math.inf]*N\n",
    "  path=[0]*N\n",
    "  index_source=Node.index(a)\n",
    "  import heapq\n",
    "  queque=[]\n",
    "  distance[index_source]=0\n",
    "  path[index_source]=1\n",
    "  heapq.heappush(queque,(0,str(a)))\n",
    "  while len(queque) !=0:\n",
    "    length, current =heapq.heappop(queque)\n",
    "    curr_index=Node.index(int(current))\n",
    "    if int(current) in G.keys():\n",
    "      for i in G[int(current)]:\n",
    "        if i[0]==node_to_avoid:\n",
    "          WL=math.inf\n",
    "        else:\n",
    "          WL=i[1]\n",
    "        v_index=Node.index(i[0])\n",
    "        if distance[v_index]>(distance[curr_index]+WL):\n",
    "          heapq.heappush(queque,(length+i[1],str(i[0])))\n",
    "          distance[v_index]=distance[curr_index]+i[1]\n",
    "          path[v_index]=path[curr_index]\n",
    "        elif distance[v_index]==(distance[curr_index]+WL):\n",
    "          path[v_index]=path[v_index]+path[curr_index]\n",
    "    else:\n",
    "      continue\n",
    "  return path,distance\n",
    "\n",
    "def my_dijkstra(G, i, j):\n",
    "    '''\n",
    "        The implementation of Dijkstra algorithm it returns a list of tuple made by:\n",
    "        (the node, their father and their cost) in order of visit\n",
    "\n",
    "    '''\n",
    "    visited = set()\n",
    "    idx=0\n",
    "    frounteer = PriorityQueue([(0,idx,(i,i, 0))])\n",
    "    path = []\n",
    "    while frounteer.empty():\n",
    "        f = frounteer.get()[2]\n",
    "        node, father, cost = f\n",
    "        idx += 1\n",
    "        if node in visited: continue\n",
    "        # If the node is already in the frounteer with a greater cost it will be drown after this (it'll be already visited)\n",
    "        path.append((node, father, cost))\n",
    "        if node == j:\n",
    "            return path\n",
    "    \n",
    "        visited.add(node)\n",
    "        if node not in G:\n",
    "            continue\n",
    "        for son, weight in G[node]:\n",
    "            if not son in visited:\n",
    "                frounteer.push((cost+weight,cost+weight,(son, node, cost+weight)))\n",
    "    return path\n",
    "\n",
    "def choose_the_metric(G,NODE):\n",
    "  # let the user choose  which type of metric he is interested in\n",
    "  metric_type = input('Choose a metric: \\nA: Pagerank \\nB: Betweeness \\nC: ClosenessCentrality\\nD: DegreeCentrality \\n')\n",
    "  if metric_type == 'A':\n",
    "    print(\"You've choosen the metric page rank\")\n",
    "    metric = PageRank(G,NODE,alpha=0.85,iter=100)\n",
    "  elif metric_type == 'B':\n",
    "    print(\"You've choosen the metric betweennes\")\n",
    "    metric = betweennes(G,NODE)\n",
    "  elif metric_type == 'C':\n",
    "   metric = closeness(G,NODE)\n",
    "   print(\"You've choosen the metric closeness\")\n",
    "  elif metric_type == 'D':\n",
    "    print(\"You've choosen the metric Degree centrality\")\n",
    "    metric = DegreeCentrality(G,NODE)\n",
    "  return(metric)\n",
    "\n",
    "#Betweenness\n",
    "def betweennes(G,NODE):\n",
    "  nodes=Nodes(G)\n",
    "  BiBBi=0\n",
    "  nta_index=nodes.index(NODE)\n",
    "  for n in nodes:\n",
    "    if n!=NODE:\n",
    "      path1,dist1=number_of_shortest_path(n,G)\n",
    "      path2,dist2=number_of_shortest_path_avoiding(n,G,NODE)\n",
    "      del path1[nta_index]\n",
    "      del path2[nta_index]\n",
    "      del dist1[nta_index]\n",
    "      del dist2[nta_index]\n",
    "      for j in range(len(path1)):\n",
    "        if dist1[j]<dist2[j] and path1[j]!=0:\n",
    "          BiBBi+=1\n",
    "        if dist1[j]==dist2[j] and path1[j]!=0:\n",
    "          BiBBi+=(path1[j]-path2[j])/(path1[j])\n",
    "    else:\n",
    "       continue\n",
    "  return BiBBi\n",
    "\n",
    "#PageRank\n",
    "def PageRank(G,NODE,alpha=0.85,iter=100):\n",
    "  for it in range(iter):\n",
    "      V=Nodes(G)\n",
    "      N=len(V)\n",
    "      id=V.index(NODE)\n",
    "      PR=dict((i, 1/N) for i in V)\n",
    "      NU=dict((i,len(get_friends(i,G)) ) for i in V)\n",
    "      for i in V:\n",
    "        if len(income(i,G))==0:\n",
    "          E=[0]\n",
    "        for j in income(i,G):\n",
    "          E=[]\n",
    "          if NU[j]!=0:\n",
    "            E.append(PR[j]/NU[j])\n",
    "          else: \n",
    "            E.append(0)\n",
    "        PR[i]=((1-alpha)/N)+alpha*(sum(E))\n",
    "  return(PR[id])\n",
    "\n",
    "#ClosenessCentrality \n",
    "def closeness(G,NODE):\n",
    "  V=Nodes(G)\n",
    "  deno=0\n",
    "  for i in V:\n",
    "    if i!=NODE:\n",
    "      deno+=my_dijkstra(G, NODE, i)[-1][-1]\n",
    "  if deno==0:\n",
    "    return 0\n",
    "  else:\n",
    "    return (len(V)-1)/deno\n",
    "\n",
    "#DegreeCentrality\n",
    "def DegreeCentrality(G,NODE):\n",
    "  W=0\n",
    "  for a in G[NODE]:\n",
    "      W+=int(a[1])\n",
    "  return W/(len(Nodes(G))-1)\n",
    "\n",
    "def functionality2(PG ,NODE,time):#G è un path time ('2008-11-13', '2008-11-14')\n",
    "  G= functions.get_single_graph(PG, date_range=time)\n",
    "  G=G.__dict__[\"adiacency_lists\"]\n",
    "  return choose_the_metric(G,NODE)"
   ]
  },
  {
   "cell_type": "markdown",
   "metadata": {},
   "source": [
    "### Visualitation 2\n"
   ]
  },
  {
   "cell_type": "code",
   "execution_count": 47,
   "metadata": {
    "id": "tHX2e0-h9cL9"
   },
   "outputs": [],
   "source": [
    "def create_my_graph(g):\n",
    "  myG = nx.DiGraph()\n",
    "  for u in list(g.keys()):\n",
    "    for v in g[u]:\n",
    "      if u != v[0]:\n",
    "        myG.add_edge(u, v[0],weight=v[1])\n",
    "  return myG\n",
    "def create_my_subgraph(g, NODE):\n",
    "  # create a graph\n",
    "  myG=create_my_graph(g)\n",
    "  # select the neighbors of an input node\n",
    "  node_neighbors = [NODE]\n",
    "  neighbors = g[NODE]\n",
    "  for node in neighbors:\n",
    "    node_neighbors.append(node[0])\n",
    "  # create the subgraph with networkx\n",
    "  subG = myG.subgraph(node_neighbors)  \n",
    "  return(subG)\n",
    "def plot_subgraph(g, NODE,M):\n",
    "  import matplotlib.pyplot as plt\n",
    "\n",
    "  # create the sub graph\n",
    "  subG = create_my_subgraph(g,NODE)\n",
    "\n",
    "  pos = nx.spring_layout(subG, k=0.40, iterations=20, seed = 12)  \n",
    "  edges = [(u, v) for (u, v, d) in subG.edges(data=True) if u != v]\n",
    "\n",
    "  # add nodes to the graph\n",
    "  nx.draw_networkx_nodes(subG, pos, node_size=800, node_color='olive', \n",
    "                         alpha = .5, label = 'Neighbors of input node')\n",
    "\n",
    "  # draw the node of interest (input)\n",
    "  nx.draw_networkx_nodes(subG, pos, node_size=800, nodelist = [NODE], \n",
    "                         node_color='crimson', label = 'Input node: {}'.format(NODE))\n",
    "  nx.draw_networkx_edges(subG, pos, edgelist=edges, width=3, alpha = 0.8, edge_color=\"steelblue\", \n",
    "                         arrowsize=15, connectionstyle='arc3,rad=0.05')\n",
    "  ax = plt.gca()\n",
    "  ax.margins(0.03)\n",
    "  box = dict(boxstyle='round', facecolor='snow', alpha=0.7, edgecolor=\"grey\")\n",
    "  plt.suptitle('Value of Metric choosen: {}'.format(M,M),x= .51,y = 0.65, fontsize = 8, bbox=box, horizontalalignment = 'left')\n",
    "  plt.show()\n",
    "def visualization2(PG,NODE,time):\n",
    "    M=functionality2(PG,NODE,time)\n",
    "    G=functions.get_single_graph(PG, date_range=time)\n",
    "    G=G.__dict__[\"adiacency_lists\"]\n",
    "    plot_subgraph(G, NODE,M)"
   ]
  },
  {
   "cell_type": "code",
   "execution_count": 51,
   "metadata": {
    "colab": {
     "base_uri": "https://localhost:8080/",
     "height": 491
    },
    "id": "b4Ln6B2_9cMA",
    "outputId": "1c7423ac-5f4a-4932-9957-d3168218ee1a"
   },
   "outputs": [
    {
     "name": "stdout",
     "output_type": "stream",
     "text": [
      "Reading the file: data/original/c2q_casted.csv\n",
      "done in 4.173s\n",
      "Retrieving the graph...\n",
      "done in 1.585s\n",
      "You've choosen the metric Degree centrality\n",
      "Reading the file: data/original/c2q_casted.csv\n",
      "done in 4.118s\n",
      "Retrieving the graph...\n",
      "done in 1.555s\n"
     ]
    },
    {
     "data": {
      "image/png": "[encoded data removed]",
      "text/plain": [
       "<Figure size 432x288 with 1 Axes>"
      ]
     },
     "metadata": {},
     "output_type": "display_data"
    }
   ],
   "source": [
    "visualization2(\"data/original/c2q_casted.csv\", 893,time=('2008-11-13', '2008-11-14')) # Choose the metric D"
   ]
  },
  {
   "cell_type": "markdown",
   "metadata": {},
   "source": [
    "### Testing\n",
    "since the computation is really time expensive, we've shown the application of the algorithm for the other metrics on a sample graph that's not coming from the stackoverflow datasets"
   ]
  },
  {
   "cell_type": "code",
   "execution_count": 52,
   "metadata": {},
   "outputs": [],
   "source": [
    "sample_g = {0:[(1,1), (5,2)],1:[(2,1),(3,1), (4,3)], 2:[(0,3), (7, 5)], 3:[(4, 1),(5, 1)], 4:[(5,0),(6, 1)], 5: [(7,2)], 6:[(7,0)]}"
   ]
  },
  {
   "cell_type": "code",
   "execution_count": 53,
   "metadata": {},
   "outputs": [
    {
     "data": {
      "image/png": "[encoded data removed]",
      "text/plain": [
       "<Figure size 432x288 with 1 Axes>"
      ]
     },
     "metadata": {},
     "output_type": "display_data"
    }
   ],
   "source": [
    "# Page rank example \n",
    "\n",
    "pr = PageRank(sample_g,3,alpha=0.85,iter=100)\n",
    "plot_subgraph(sample_g, 3,pr)"
   ]
  },
  {
   "cell_type": "code",
   "execution_count": 54,
   "metadata": {},
   "outputs": [
    {
     "data": {
      "image/png": "[encoded data removed]",
      "text/plain": [
       "<Figure size 432x288 with 1 Axes>"
      ]
     },
     "metadata": {},
     "output_type": "display_data"
    }
   ],
   "source": [
    "# Betweennes example\n",
    "\n",
    "bt = betweennes(sample_g, 5)\n",
    "plot_subgraph(sample_g, 5,bt)"
   ]
  },
  {
   "cell_type": "code",
   "execution_count": 57,
   "metadata": {},
   "outputs": [
    {
     "data": {
      "image/png": "[encoded data removed]",
      "text/plain": [
       "<Figure size 432x288 with 1 Axes>"
      ]
     },
     "metadata": {},
     "output_type": "display_data"
    }
   ],
   "source": [
    "# Closeness example\n",
    "\n",
    "cl = closeness(sample_g,1)\n",
    "plot_subgraph(sample_g, 1, cl)"
   ]
  },
  {
   "cell_type": "markdown",
   "metadata": {},
   "source": [
    "### Functionality 3 - Shortest Ordered Route\n",
    "It takes in input:\n",
    "* An interval of time\n",
    "* A sequence of users p = [p_2, ..., p_n-1]\n",
    "+ Initial user p_1 and an end user p_n\n",
    "Implement an algorithm that returns the shortest walk that goes from user p_j to p_n, and that visits in order the nodes in p. The choice of p_j and p_n can be done randomly (or if it improves the performance of the algorithm you can also define it in any other way)\n",
    "\n",
    "Consider that:\n",
    "\n",
    "The algorithm needs to handle the case that the graph is not connected, thus not all the nodes in p are reachable from p_1. In such scenario, it is enough to let the program give in output the string \"Not possible\".\n",
    "That the graph is weighted\n",
    "Since we are dealing with walks, you can pass more than once on the same node p_i, but you have to preserve order. E.g.: if you pass through p_2 and you are going to p_3, you can pass through p_10, but once you will be in p_9, you will have to go back to p_10 as well.\n",
    "\n",
    "### Idea.\n",
    "This problem consists in find the shortest ordered **route**, not path, so we can have repetition either of edges and of nodes, so we need to pay attention to potential inifinte loops.<br>\n",
    "The main idea is that finding the shortest route that traverses all of the given nodes in that order is equal to find the route that is the union of the shortest paths that link each successive pair of nodes.\n",
    "\n",
    "We know really well how to compute this shortest path (Dijkstra) and the algorithm that I've thinked as more suitable for our porpouses is the following:\n",
    "```\n",
    "---------––-----------------––-----------------––-------------\n",
    "Input: G, nodes= [p_1, p_2, ..., p_n]                                \n",
    "Output: [p_1, .., p_2, ..., p_3, ..., p_n] the shortest route \n",
    "---------––-----------------––-----------------––-------------\n",
    "for i in range(0, len(nodes)-1){\n",
    "    ret += Dijkstra(G, nodes[i], nodes[i+1])\n",
    "}\n",
    "\n",
    "```\n",
    "\n",
    "Where ```Dijkstra(G, n1, n2)``` returns the cheapest path that links n1 with n2 in the graph G.\n",
    "\n",
    "All these words are for saying that since it's really hard to test this algorithm over big portion of the graph given its huge dimension and that even if all the runs are good, the real guarantees on the correctness of this algorithm resides on the fact that it's simply subsequent application of Dijkstra and this algorithm has the following charateristics:\n",
    "1. Always **terminate** because or this route exists, so if we apply subsequently Dijkstra it'll terminate each time or it doesn't exists, so in one application disjkstra fails, so it returns None (of course the list of nodes has to be **finite**)\n",
    "2. The route is the **shortest** accordingly with the weight, since at each step we find the shortest path for two nodes in the list if exists a path with a lower cost it would means that we can go from one node to another in a cost lower than the estimated, so we have a path from two nodes that Dijskstra didn't find, but it doesn't make sense since Dijkstra is a correct algorithm.\n",
    "3. The complexity is of the order of the lenght of the list of nodes (n) times the Dikstra complexity\n",
    "\n",
    "\n",
    "### IMPORTANT!!\n",
    "The class PriorityQueue and the algorithm 'my_dijkstra' are already defined at the **beginning of the file** since they are being used, for the closeness functionality, so refer to that cell to see the code."
   ]
  },
  {
   "cell_type": "code",
   "execution_count": 26,
   "metadata": {},
   "outputs": [
    {
     "name": "stdout",
     "output_type": "stream",
     "text": [
      "([0, 5, 7], 4)\n"
     ]
    }
   ],
   "source": [
    "G = {0:[(1,1), (5,2)],1:[(2,1),(3,1), (4,3)], 2:[(0,3), (7, 5)], 3:[(4, 1),(5, 1)], 4:[(5,0),(6, 1)], 5: [(7,2)], 6:[(7,0)]}\n",
    "dij = my_dijkstra(G, 0, 7)\n",
    "\n",
    "def get_path(visited):\n",
    "    '''\n",
    "        Given the path in the form of the Dijkstra output it read that list and return a tuple made by:\n",
    "        the list of nodes in the path in the order of visit\n",
    "        the total cost\n",
    "    '''\n",
    "    i = len(visited)-1\n",
    "    ret = []\n",
    "    while i>=0:\n",
    "        node, father, _ = visited[i]\n",
    "        ret.append(node)\n",
    "\n",
    "        if node==father:\n",
    "            break\n",
    "        for _ in range(1, i+1):\n",
    "            i-=1\n",
    "            if visited[i][0]==father:\n",
    "                break\n",
    "    return list(reversed(ret)), visited[-1][-1]\n",
    "\n",
    "\n",
    "\n",
    "print(get_path(dij))"
   ]
  },
  {
   "cell_type": "code",
   "execution_count": 27,
   "metadata": {},
   "outputs": [
    {
     "data": {
      "text/plain": [
       "([0, 1, 2, 0, 5, 7], 7)"
      ]
     },
     "execution_count": 27,
     "metadata": {},
     "output_type": "execute_result"
    }
   ],
   "source": [
    "def concat_path(path_list):\n",
    "    ''' \n",
    "        Concatenates a list of path in the form [[n1, n2, n3],[n3, n4], [n4, n5]]\n",
    "        into [n1,n2,n3,n4,n5] and return it and its cost\n",
    "    '''\n",
    "    tot_cost = sum([path_list[i] for i in range(1, len(path_list)-(len(path_list)%2==0), 2)])\n",
    "    tot_paths = []\n",
    "    for i in range(0, len(path_list), 2):\n",
    "        tot_paths += path_list[i][:-1]\n",
    "    return tot_paths+[path_list[-2][-1]], tot_cost\n",
    "\n",
    "def func_3(G, nodes):\n",
    "    '''\n",
    "        Given the graph G and the list of nodes it returns the shortest ordered route that\n",
    "        links tha nodes in the list in that order with the lower cost among their edges\n",
    "        accordingly with G.\n",
    "    '''\n",
    "    ret = []\n",
    "    for i in range(len(nodes)-1):\n",
    "        ret += get_path(my_dijkstra(G, nodes[i], nodes[i+1]))\n",
    "    return concat_path(ret)\n",
    "    \n",
    "func_3(G, [0,1,2,5,7])"
   ]
  },
  {
   "cell_type": "code",
   "execution_count": 39,
   "metadata": {},
   "outputs": [],
   "source": [
    "import networkx as nx\n",
    "import networkx.utils.misc as nx_misc\n",
    "def view_f3(G, nodes):\n",
    "    '''\n",
    "    Given the graph and the list of nodes of the funcionality 3\n",
    "    it makes the user able to visualize the obtained oriented graph\n",
    "    '''\n",
    "    g = nx.DiGraph()\n",
    "    g.add_edges_from(nx_misc.pairwise(func_3(G,nodes)[0]))\n",
    "    nx.draw(g, with_labels=True)"
   ]
  },
  {
   "cell_type": "code",
   "execution_count": 5,
   "metadata": {},
   "outputs": [],
   "source": [
    "def get_unique_graph(date_range):\n",
    "    return functions.get_global_graph(['data/original/a2q_casted.csv','data/original/c2a_casted.csv', 'data/original/c2q_casted.csv'], date_range=date_range, coefficients=[3,2,1])"
   ]
  },
  {
   "cell_type": "code",
   "execution_count": 37,
   "metadata": {},
   "outputs": [],
   "source": [
    "def functionality3(date_interval, users):\n",
    "    g = get_unique_graph(date_interval)\n",
    "    view_f3(g.adiacency_lists, users)"
   ]
  },
  {
   "cell_type": "code",
   "execution_count": 38,
   "metadata": {},
   "outputs": [
    {
     "name": "stdout",
     "output_type": "stream",
     "text": [
      "reading the files:\n",
      "\t-answer to questions: data/original/a2q_casted.csv\t-comment to answers: data/original/c2a_casted.csv\t-comment to questions: data/original/c2q_casted.csv\n",
      "done in 12.616s\n",
      "filtering the dataframes...\n",
      "done in 0.7s\n",
      "generating the weights\n",
      "- multiplying by the coefficients: [3, 2, 1]\n",
      "done in 0.106s\n",
      "putting all togheter, it may require some time...\n",
      "done in 0.155s\n",
      "retrieving the graph\n",
      "done in 2.641s tot time elapsed: 16.223\n"
     ]
    },
    {
     "data": {
      "image/png": "[encoded data removed]",
      "text/plain": [
       "<Figure size 432x288 with 1 Axes>"
      ]
     },
     "metadata": {},
     "output_type": "display_data"
    }
   ],
   "source": [
    "functionality3(('2008-11-13', '2008-11-14'), [24,25,26,27,1342177304,29,30,1409286171])"
   ]
  },
  {
   "cell_type": "markdown",
   "metadata": {},
   "source": [
    "### Results\n",
    "Since the interactions between more than two users in the form a---comment--> B ---answer---> C ---comment---> D---answer---> E and so on are very few, we can easily see that the output in the stackoverflow graph is empty and it'll be as it is for many date range.<br>\n",
    "\n",
    "The visualization can be seen on a sample graph in the below cells in order to understand how it'll appear with more connected graphs"
   ]
  },
  {
   "cell_type": "code",
   "execution_count": 40,
   "metadata": {},
   "outputs": [
    {
     "data": {
      "image/png": "[encoded data removed]",
      "text/plain": [
       "<Figure size 432x288 with 1 Axes>"
      ]
     },
     "metadata": {},
     "output_type": "display_data"
    }
   ],
   "source": [
    "view_f3(G, [0,1,2,5,7])"
   ]
  },
  {
   "cell_type": "markdown",
   "metadata": {
    "id": "ldGLj9jImC3d"
   },
   "source": [
    "### Functionality 4 - Disconnecting graphs\n",
    "It takes in input:\n",
    "\n",
    "Two different intervals of time (disjoint or not), which will lead to two different graphs, G_1 (associated to interval 1) and G_2 (associated to interval 2)\n",
    "Two users which are unique to each interval of time (user_1 only appears in interval 1, while user_2 only appears in interval 2)\n",
    "The function should return the minimum number of links (considering their weights) required to disconnect the two graphs."
   ]
  },
  {
   "cell_type": "code",
   "execution_count": 58,
   "metadata": {
    "id": "N4ZlctcCquyQ"
   },
   "outputs": [],
   "source": [
    "def BFS(G, s, t, parent): \n",
    "    nodes = nx.nodes(G)\n",
    "    visited = {key: False for key in nodes}\n",
    "    queue=[] \n",
    "    visited[s] = True\n",
    "    queue.append(s)\n",
    "    while queue: \n",
    "        node = queue.pop(0) \n",
    "        if(node not in nodes):\n",
    "            continue\n",
    " \n",
    "        for idx in G[node]:\n",
    "            if (not visited[idx] and G[node][idx]['weight'] > 0) : \n",
    "                queue.append(idx) \n",
    "                visited[idx] = True\n",
    "                parent[idx] = node\n",
    "\n",
    "    return visited[t]\n",
    "\n",
    "def dfs(G,s,visited):\n",
    "    visited[s]=True\n",
    "    for node in G[s]:\n",
    "        if G[s][node][\"weight\"] > 0 and not visited[node]:\n",
    "            dfs(G,node,visited)\n",
    "            \n",
    "def minCut(G, source, sink): \n",
    "    graph = G.copy()\n",
    "    nodes = nx.nodes(G)\n",
    "    parent = {key: -1 for key in nx.nodes(G)}\n",
    "    max_flow = 0 \n",
    "    s = sink\n",
    "    while(BFS(graph, source, sink, parent)) : \n",
    "        path_flow = float(\"inf\") \n",
    "        \n",
    "        while(s != source): \n",
    "            path_flow = min(path_flow, G[parent[s]][s]['weight']) \n",
    "            s = parent[s] \n",
    "        max_flow += path_flow \n",
    "        v = sink \n",
    "        while(v != source): \n",
    "            u = parent[v] \n",
    "            graph[u][v][\"weight\"] -= path_flow \n",
    "            if(v in nodes and u in graph[v]):\n",
    "                graph[v][u][\"weight\"] += path_flow \n",
    "            v = parent[v] \n",
    "    visited ={key: False for key in nodes}\n",
    "    dfs(graph,s,visited)\n",
    "    edge_to_remove = []\n",
    "    weight = 0\n",
    "    for i in nodes:\n",
    "        for j in G[i]:\n",
    "            if (graph[i][j][\"weight\"] == 0) and (visited[i]):\n",
    "                edge_to_remove.append((i, j))\n",
    "                weight += G[i][j][\"weight\"]\n",
    "                \n",
    "    return edge_to_remove, weight"
   ]
  },
  {
   "cell_type": "code",
   "execution_count": 59,
   "metadata": {},
   "outputs": [],
   "source": [
    "import numpy as np \n",
    "def functionality4(date_range1, date_range2, user1, user2):\n",
    "\n",
    "    g1 = get_unique_graph(date_range1)\n",
    "    print(f\"Retrieved graph 1 from date range: {date_range1}\")\n",
    "\n",
    "    g2 = get_unique_graph(date_range2)\n",
    "    print(f\"Retrieved graph 2 from date range: {date_range2}\")\n",
    "    \n",
    "    unique_users1 = g1.nodes.difference(g2.nodes)\n",
    "    unique_users2 = g2.nodes.difference(g1.nodes)\n",
    "    if user1 not in unique_users1 or user2 not in unique_users2:\n",
    "        print(f\"The pair of users ({user1},{user2}) are not unique for each graph.\")\n",
    "        user1 = np.random.choice(list(unique_users1))\n",
    "        user2 = np.random.choice(list(unique_users2))\n",
    "        print(f\"Will be used the pair: ({user1},{user2})\")\n",
    "    \n",
    "\n",
    "    g = get_unique_graph([date_range1, date_range2])\n",
    "    print(\"Retrieved total graph\")\n",
    "    g=create_my_graph(g.adiacency_lists)\n",
    "    return minCut(g, user1, user2), g\n"
   ]
  },
  {
   "cell_type": "markdown",
   "metadata": {},
   "source": [
    "### Results\n",
    "Since, as for the third functionality, the majority of the nodes are connected only to one neighbour, as it's show by the following cell of code, we'll show the work of our funcionality on another sample graph.  "
   ]
  },
  {
   "cell_type": "code",
   "execution_count": 36,
   "metadata": {},
   "outputs": [],
   "source": [
    "\n",
    "nodes = np.random.choice(list(g1.adiacency_lists.keys()), size=100)\n",
    "for n in nodes:\n",
    "    l = nx.dag_longest_path_length(g, n)\n",
    "    if l>1:\n",
    "        print(f\"node: {n}, len: {l}\")\n"
   ]
  },
  {
   "cell_type": "code",
   "execution_count": 15,
   "metadata": {},
   "outputs": [
    {
     "name": "stdout",
     "output_type": "stream",
     "text": [
      "reading the files:\n",
      "\t-answer to questions: data/original/a2q_casted.csv\t-comment to answers: data/original/c2a_casted.csv\t-comment to questions: data/original/c2q_casted.csv\n",
      "done in 12.919s\n",
      "filtering the dataframes...\n",
      "done in 0.798s\n",
      "generating the weights\n",
      "- multiplying by the coefficients: [3, 2, 1]\n",
      "done in 0.095s\n",
      "putting all togheter, it may require some time...\n",
      "done in 0.152s\n",
      "retrieving the graph\n",
      "done in 2.642s tot time elapsed: 16.609\n",
      "Retrieved graph 1 from date range: ('2008-11-13', '2008-11-14')\n",
      "reading the files:\n",
      "\t-answer to questions: data/original/a2q_casted.csv\t-comment to answers: data/original/c2a_casted.csv\t-comment to questions: data/original/c2q_casted.csv\n",
      "done in 12.79s\n",
      "filtering the dataframes...\n",
      "done in 0.736s\n",
      "generating the weights\n",
      "- multiplying by the coefficients: [3, 2, 1]\n",
      "done in 0.084s\n",
      "putting all togheter, it may require some time...\n",
      "done in 0.125s\n",
      "retrieving the graph\n",
      "done in 2.237s tot time elapsed: 15.974\n",
      "Retrieved graph 2 from date range: ('2008-11-16', '2008-11-17')\n",
      "The pair of users (25,59) are not unique for each graph.\n",
      "Will be used the pair: (1450140996,1446006709)\n",
      "reading the files:\n",
      "\t-answer to questions: data/original/a2q_casted.csv\t-comment to answers: data/original/c2a_casted.csv\t-comment to questions: data/original/c2q_casted.csv\n",
      "done in 12.605s\n",
      "filtering the dataframes...\n",
      "done in 1.149s\n",
      "generating the weights\n",
      "- multiplying by the coefficients: [3, 2, 1]\n",
      "done in 0.173s\n",
      "putting all togheter, it may require some time...\n",
      "done in 0.329s\n",
      "retrieving the graph\n",
      "done in 6.6s tot time elapsed: 20.857\n",
      "Retrieved total graph\n"
     ]
    },
    {
     "data": {
      "text/plain": [
       "([], 0)"
      ]
     },
     "execution_count": 15,
     "metadata": {},
     "output_type": "execute_result"
    }
   ],
   "source": [
    "f4 = functionality4(('2008-11-13', '2008-11-14'), ('2008-11-16', '2008-11-17'), 25, 59)\n",
    "f4"
   ]
  },
  {
   "cell_type": "markdown",
   "metadata": {},
   "source": [
    "## Visualization\n",
    "functionality 4"
   ]
  },
  {
   "cell_type": "code",
   "execution_count": 60,
   "metadata": {},
   "outputs": [
    {
     "data": {
      "image/png": "[encoded data removed]",
      "text/plain": [
       "<Figure size 432x288 with 1 Axes>"
      ]
     },
     "metadata": {},
     "output_type": "display_data"
    }
   ],
   "source": [
    "import matplotlib.pyplot as plt\n",
    "\n",
    "\n",
    "sample_g = {0:[(1,1), (5,2)],1:[(2,1),(3,1), (4,3)], 2:[(0,3), (7, 5)], 3:[(4, 1),(5, 1)], 4:[(5,0),(6, 1)], 5: [(7,2)], 6:[(7,0)]}\n",
    "user1 = 0\n",
    "user2 = 3\n",
    "\n",
    "def view_f4(user1, user2, dr1=None,dr2=None, sample_g=None):\n",
    "    \n",
    "    if sample_g is not None:\n",
    "        subG = create_my_graph(sample_g)\n",
    "    else:\n",
    "        cutted_edges, subG = functionality4(dr1, dr2, user1, user2)\n",
    "\n",
    "    pos = nx.spring_layout(subG, k=0.40, iterations=20, seed = 12)  \n",
    "    edges = [(u, v) for (u, v, d) in subG.edges(data=True) if u != v]\n",
    "\n",
    "    # add nodes to the graph\n",
    "    nx.draw_networkx_nodes(subG, pos, node_size=800, node_color='olive', \n",
    "                        alpha = .5, label = 'Neighbors of input node')\n",
    "\n",
    "    # draw the node of interest (input)\n",
    "    nx.draw_networkx_nodes(subG, pos, node_size=800, nodelist = [user1, user2], \n",
    "                        node_color='crimson')\n",
    "\n",
    "    nx.draw_networkx_edges(subG, pos, edgelist=edges, width=3, alpha = 0.8, edge_color=\"steelblue\", \n",
    "                        arrowsize=15, connectionstyle='arc3,rad=0.05')\n",
    "\n",
    "    if sample_g is not None:\n",
    "        cutted_edges, _ = minCut(subG, user1, user2)\n",
    "\n",
    "    nx.draw_networkx_edges(subG, pos, edgelist=cutted_edges, width=3, alpha = 0.8, edge_color=\"black\", \n",
    "                        arrowsize=15, connectionstyle='arc3,rad=0.05')\n",
    "\n",
    "    ax = plt.gca()\n",
    "    ax.margins(0.03)\n",
    "    plt.show()\n",
    "\n",
    "view_f4(user1, user2, sample_g=sample_g)"
   ]
  },
  {
   "cell_type": "markdown",
   "metadata": {},
   "source": [
    "## 4. Algorithmic question \n",
    "\n",
    "A number ***n*** of kids are in a camp. Between some ***k*** pairs of them (a kid can be part of more than one pairs) there are often fights. At night there are two dormitories where the kids can sleep. We want, if possible, to assign each kid in one of the two dormitories in such a way that each pair of kids that fights often is assigned to a different dormitory. (There are no space problems and the two dormitories can have different number of kids.)\n",
    "\n",
    "Give an algorithm that is linear in ***n*** and ***k*** that is able to answer whether such an assignment is possible and, if so, return one."
   ]
  },
  {
   "cell_type": "markdown",
   "metadata": {},
   "source": [
    "### Solution\n",
    "\n",
    "This problem consists simply in a bicoloration of a graph. We can in fact think at this problem as if we have a graph that has for nodes all the kids and has one edge only between the pairs of fighting kids, we'll put each kid in a room that doesn't contains an 'enemy' *if and only if* we can colour the graph with two colour in such a way that each parent has a different colour from their children.\n",
    "\n",
    "The algorithm that I'm going to show is a modified BFS, so it's computational complexity is $O(n+k)$ and it's sure that terminates, it's also correct because we'll bicolour each graph that doesn't have an odd cycle.\n",
    "\n",
    "Let's see:\n",
    "suppose to have a boolean colouring\n",
    "```\n",
    "bicolor(G):\n",
    "    n1 = G.nodes[0]\n",
    "    colors=[None for _ in range(len(G.nodes))]\n",
    "    colors[n1] = True\n",
    "    frounteer = queue(n1)\n",
    "    while frounteer:\n",
    "        n = frounteer.pop()\n",
    "        for son in G[n]:\n",
    "            if colors[son] is None:\n",
    "                colors[son] = not colors[n]\n",
    "                frounteer.enqueue(son)\n",
    "            elif colors[son]==colors[n]:\n",
    "                return False # the son is already coloured with the same colour (they cannot be in the same room but this is their destiny)\n",
    "    None is in colors:  # disconnected parts\n",
    "        G.remove_nodes([nodes that has a colour != None])\n",
    "        return bicolor(G)\n",
    "    \n",
    "    return True\n",
    "```\n"
   ]
  },
  {
   "cell_type": "code",
   "execution_count": 50,
   "metadata": {},
   "outputs": [],
   "source": [
    "def bicolor(G):\n",
    "    nodes = list(G.keys())\n",
    "    n1 = nodes[0]\n",
    "    colors={n: None for n in nodes}\n",
    "    colors[n1] = True\n",
    "    frounteer = [n1]\n",
    "    while len(frounteer)>0:\n",
    "        n = frounteer.pop(0)\n",
    "        for son in G[n]:\n",
    "            if colors[son] is None:\n",
    "                colors[son] = not colors[n]\n",
    "                frounteer.append(son)\n",
    "            elif colors[son]==colors[n]:\n",
    "                return False, colors\n",
    "    if None in colors.values():  # disconnected parts\n",
    "        G = {n:G[n] for n in G if colors[n] is None}\n",
    "        possible, colors_bis = bicolor(G)\n",
    "        colors.update(colors_bis)\n",
    "        return possible, colors\n",
    "    \n",
    "    return True, colors"
   ]
  },
  {
   "cell_type": "code",
   "execution_count": 51,
   "metadata": {},
   "outputs": [
    {
     "data": {
      "image/png": "[encoded data removed]",
      "text/plain": [
       "<Figure size 432x288 with 1 Axes>"
      ]
     },
     "metadata": {},
     "output_type": "display_data"
    }
   ],
   "source": [
    "import networkx as nx\n",
    "\n",
    "G = {1:[2], 2:[1, 3, 4], 3:[2,5], 5:[3, 6], 6:[5], 7:[4], 4:[2,7], 8:[9], 9:[8, 10], 10:[9, 11], 11:[10]}\n",
    "nx_G = nx.from_dict_of_lists(G)\n",
    "# nx.draw(G, node_color=color_map, with_labels=True)\n",
    "nx.draw(nx_G, with_labels=True)"
   ]
  },
  {
   "cell_type": "code",
   "execution_count": 52,
   "metadata": {},
   "outputs": [
    {
     "name": "stdout",
     "output_type": "stream",
     "text": [
      "{1: True, 2: False, 3: True, 5: False, 6: True, 7: False, 4: True, 8: True, 9: False, 10: True, 11: False}\n"
     ]
    }
   ],
   "source": [
    "\n",
    "lab, cols = bicolor(G)\n",
    "print(cols)"
   ]
  },
  {
   "cell_type": "code",
   "execution_count": 53,
   "metadata": {},
   "outputs": [
    {
     "data": {
      "image/png": "[encoded data removed]",
      "text/plain": [
       "<Figure size 432x288 with 1 Axes>"
      ]
     },
     "metadata": {},
     "output_type": "display_data"
    }
   ],
   "source": [
    "nx.draw(nx_G, with_labels=True, node_color= ['red' if cols[n] else 'green' if cols[n] is not None else 'black' for n in nx_G])"
   ]
  },
  {
   "cell_type": "code",
   "execution_count": 56,
   "metadata": {},
   "outputs": [
    {
     "data": {
      "image/png": "[encoded data removed]",
      "text/plain": [
       "<Figure size 432x288 with 1 Axes>"
      ]
     },
     "metadata": {},
     "output_type": "display_data"
    }
   ],
   "source": [
    "G_no = {1:[2, 3], 2:[1, 3, 4], 3:[2 ,5, 1], 5:[3, 6], 6:[5], 7:[4], 4:[2,7], 8:[9], 9:[8, 10], 10:[9, 11], 11:[10]}\n",
    "nx_G_no = nx.from_dict_of_lists(G_no)\n",
    "# nx.draw(G, node_color=color_map, with_labels=True)\n",
    "nx.draw(nx_G_no, with_labels=True)"
   ]
  },
  {
   "cell_type": "code",
   "execution_count": 57,
   "metadata": {},
   "outputs": [
    {
     "name": "stdout",
     "output_type": "stream",
     "text": [
      "False {1: True, 2: False, 3: False, 5: None, 6: None, 7: None, 4: None, 8: None, 9: None, 10: None, 11: None}\n"
     ]
    }
   ],
   "source": [
    "lab_no, cols_no = bicolor(G_no)\n",
    "print(lab_no, cols_no)"
   ]
  },
  {
   "cell_type": "code",
   "execution_count": 58,
   "metadata": {},
   "outputs": [
    {
     "data": {
      "image/png": "[encoded data removed]",
      "text/plain": [
       "<Figure size 432x288 with 1 Axes>"
      ]
     },
     "metadata": {},
     "output_type": "display_data"
    }
   ],
   "source": [
    "nx.draw(nx_G_no, with_labels=True, node_color= ['red' if cols_no[n] else 'green' if cols_no[n] is not None else 'black' for n in nx_G_no])"
   ]
  },
  {
   "cell_type": "markdown",
   "metadata": {},
   "source": [
    "### Correctness\n",
    "The problems raise only when in the graph there are odd cycles, but let's see why:\n",
    "1. If we have no cycles then we can alternate the colour without meet the same node two times, so without problem of compatibility\n",
    "2. If we have an even cycle we have that we can alternate the colours so for size 4 we have (c1,c2,c1,c2) and it's okay and adding 2 nodes means to have (c1,c2,c1,c2,c1,c2) and we can proceed without any problem\n",
    "3. If we have an odd cycle we have an even cycle that can be well coloured (c1,c2,c1,c2) and at this we add a node this node is c1 or c2 and in both cases we'll not respect the condition of the bicolouring respectively with the first and with the fourth node"
   ]
  }
 ],
 "metadata": {
  "interpreter": {
   "hash": "2e3f86d80f9d4ea2c2a83e8f7b2349235d41b98d2c2cd154f6179deca092a54d"
  },
  "kernelspec": {
   "display_name": "Python 3",
   "language": "python",
   "name": "python3"
  },
  "language_info": {
   "codemirror_mode": {
    "name": "ipython",
    "version": 3
   },
   "file_extension": ".py",
   "mimetype": "text/x-python",
   "name": "python",
   "nbconvert_exporter": "python",
   "pygments_lexer": "ipython3",
   "version": "3.8.8"
  }
 },
 "nbformat": 4,
 "nbformat_minor": 2
}
