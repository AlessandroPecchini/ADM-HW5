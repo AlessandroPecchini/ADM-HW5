{
 "cells": [
  {
   "cell_type": "markdown",
   "metadata": {},
   "source": [
    "# Homework 5 - Exploring StackOverflow!\n",
    "\n",
    "![Alt Text](https://www.linuxadictos.com/wp-content/uploads/stack-overflow-1024x244.jpg.webp)\n",
    "\n",
    "## 1. Data\n",
    "\n",
    "The first step, as always, is to download the data you will be working on. You can download the data to build the system [here](https://snap.stanford.edu/data/sx-stackoverflow.html). Please download the **3 files** which can be found under the description ['Answers to questions', 'Comments to questions', 'Comments to answers']\n",
    "  \n",
    "  In particular, each file will contain the following information:\n",
    "  * __Answers to questions__ - User u answered user v's question at time t\n",
    "  * __Comments to questions__ - User u commented on user v's question at time t\n",
    "  * __Comments to answers__  - User u commented on user v's answer at time t\n",
    "\n",
    "Unless specified differently we will handle the 3 graphs together, therefore as a first step please think about a nice and appropriate manner to merge them. You are free to merge them as you prefer, but we do expect the output graph to be a weighted gragh. For instance, imagine you have a user X has answered to a question and comment from user Y. In the combined graph we expect you to have a weighted link between these two users. How you construct this weight is fully up to you :). If the algorithm we request you does not have a weighted variant please mention it clearly and convert the weighted graph into an unweighted one.\n",
    "\n",
    "Some recommendations that might be helpful for dealing with the data is:\n",
    "\n",
    " - The date is provided with a very high precision, please round it to a reasonable value (e.g. day, hours, etc. whatever you feel makes more sense)\n",
    " - You might also see that there are several answers/comments which the user answer do to themselves... please deal with these accordingly and explain what you have decided to do. \n",
    " - We are aware that the data is a lot. For this reason we typically ask you to only focus on a smaller intrerval of time. Please test all your implementations on a sufficiently large interval of time, and use this in your benefit to get the best possible results. "
   ]
  },
  {
   "cell_type": "markdown",
   "metadata": {},
   "source": [
    "--------------------------------------------------------------------------------------------------------------------------------------------------------------------------------------\n",
    "\n",
    "## Solution 1\n",
    "\n",
    "### Preprocessing of the txt files\n",
    "\n",
    "#### Timestamps\n",
    "The data are to be cleaned, starting from the timestamps I've made two operations:\n",
    "\n",
    "1) The dataset are really huge and the timestamp are too precise, so I've decided to consider only time **windows of at least one day**.\n",
    "    in order to to this I've built a function (```cast_times```) that for each line of the txt files takes the timestamp and replace it with the same timestamp subtracting the reminder of the division for 86400 (number of seconds in a day)\n",
    "2) The timestamps refers to the 01 Jan 1970, a little bit out of date... So I've decided to add to every timestamp the number 1221436800 that's the timestamp of the day   when (accordingly with [wikipedia en](https://en.wikipedia.org/wiki/Stack_Overflow)) the first public beta release of stackoverflow has been created.\n",
    "\n",
    "#### Format\n",
    "It's decisely more easy to work with csv files, so I've saved the results into csv files"
   ]
  },
  {
   "cell_type": "code",
   "execution_count": 1,
   "metadata": {},
   "outputs": [],
   "source": [
    "import functions"
   ]
  },
  {
   "cell_type": "code",
   "execution_count": 2,
   "metadata": {},
   "outputs": [
    {
     "name": "stdout",
     "output_type": "stream",
     "text": [
      "Starting preprocessing for: answer to questions\n",
      "the output file: data/original/a2q_casted.csv already exists!\n",
      "Done\n",
      "\n",
      "Starting preprocessing for: comment to answers\n",
      "the output file: data/original/c2a_casted.csv already exists!\n",
      "Done\n",
      "\n",
      "Starting preprocessing for: comment to questions\n",
      "the output file: data/original/c2q_casted.csv already exists!\n",
      "Done\n",
      "\n"
     ]
    }
   ],
   "source": [
    "print(\"Starting preprocessing for: answer to questions\")\n",
    "functions.cast_times('data/original/a2q.txt')\n",
    "print(\"Done\\n\")\n",
    "\n",
    "print(\"Starting preprocessing for: comment to answers\")\n",
    "functions.cast_times('data/original/c2a.txt')\n",
    "print(\"Done\\n\")\n",
    "\n",
    "print(\"Starting preprocessing for: comment to questions\")\n",
    "functions.cast_times('data/original/c2q.txt')\n",
    "print(\"Done\\n\")"
   ]
  },
  {
   "cell_type": "markdown",
   "metadata": {},
   "source": [
    "### Exploring the data\n",
    "\n",
    "In the following cells I've analysed the date range over which the relationships are distributed and if there's some user that is connected in some way to itself"
   ]
  },
  {
   "cell_type": "code",
   "execution_count": 3,
   "metadata": {},
   "outputs": [],
   "source": [
    "import pandas as pd\n",
    "\n",
    "# Reading the processed csv files\n",
    "a2q = pd.read_csv('data/original/a2q_casted.csv', header='infer')\n",
    "c2a = pd.read_csv('data/original/c2a_casted.csv', header='infer')\n",
    "c2q = pd.read_csv('data/original/c2q_casted.csv', header='infer')"
   ]
  },
  {
   "cell_type": "code",
   "execution_count": 4,
   "metadata": {},
   "outputs": [
    {
     "name": "stdout",
     "output_type": "stream",
     "text": [
      "a2q:\n",
      "\tmin_timestamp: 1221436800 in_date: 2008-09-15 02:00:00\n",
      "\tmax_timestamp: 1227398400 in_date: 2008-11-23 01:00:00\n",
      "c2a:\n",
      "\tmin_timestamp: 1221436800 in_date: 2008-09-15 02:00:00\n",
      "\tmax_timestamp: 1227398400 in_date: 2008-11-23 01:00:00\n",
      "c2q:\n",
      "\tmin_timestamp: 1221436800 in_date: 2008-09-15 02:00:00\n",
      "\tmax_timestamp: 1227398400 in_date: 2008-11-23 01:00:00\n"
     ]
    }
   ],
   "source": [
    "from datetime import datetime\n",
    "print(\"a2q:\")\n",
    "print(f\"\\tmin_timestamp: {a2q.time.min()} in_date: {datetime.fromtimestamp(a2q.time.min())}\")\n",
    "print(f\"\\tmax_timestamp: {a2q.time.max()} in_date: {datetime.fromtimestamp(a2q.time.max())}\")\n",
    "print(\"c2a:\")\n",
    "print(f\"\\tmin_timestamp: {c2a.time.min()} in_date: {datetime.fromtimestamp(c2a.time.min())}\")\n",
    "print(f\"\\tmax_timestamp: {c2a.time.max()} in_date: {datetime.fromtimestamp(c2a.time.max())}\")\n",
    "print(\"c2q:\")\n",
    "print(f\"\\tmin_timestamp: {c2q.time.min()} in_date: {datetime.fromtimestamp(c2q.time.min())}\")\n",
    "print(f\"\\tmax_timestamp: {c2q.time.max()} in_date: {datetime.fromtimestamp(c2q.time.max())}\")"
   ]
  },
  {
   "cell_type": "code",
   "execution_count": 5,
   "metadata": {},
   "outputs": [
    {
     "data": {
      "text/html": [
       "<div>\n",
       "<style scoped>\n",
       "    .dataframe tbody tr th:only-of-type {\n",
       "        vertical-align: middle;\n",
       "    }\n",
       "\n",
       "    .dataframe tbody tr th {\n",
       "        vertical-align: top;\n",
       "    }\n",
       "\n",
       "    .dataframe thead th {\n",
       "        text-align: right;\n",
       "    }\n",
       "</style>\n",
       "<table border=\"1\" class=\"dataframe\">\n",
       "  <thead>\n",
       "    <tr style=\"text-align: right;\">\n",
       "      <th></th>\n",
       "      <th>user_from</th>\n",
       "      <th>time</th>\n",
       "      <th>user_to</th>\n",
       "    </tr>\n",
       "  </thead>\n",
       "  <tbody>\n",
       "  </tbody>\n",
       "</table>\n",
       "</div>"
      ],
      "text/plain": [
       "Empty DataFrame\n",
       "Columns: [user_from, time, user_to]\n",
       "Index: []"
      ]
     },
     "execution_count": 5,
     "metadata": {},
     "output_type": "execute_result"
    }
   ],
   "source": [
    "a2q[a2q.user_from.isin(a2q.user_to)]"
   ]
  },
  {
   "cell_type": "code",
   "execution_count": 6,
   "metadata": {},
   "outputs": [
    {
     "data": {
      "text/html": [
       "<div>\n",
       "<style scoped>\n",
       "    .dataframe tbody tr th:only-of-type {\n",
       "        vertical-align: middle;\n",
       "    }\n",
       "\n",
       "    .dataframe tbody tr th {\n",
       "        vertical-align: top;\n",
       "    }\n",
       "\n",
       "    .dataframe thead th {\n",
       "        text-align: right;\n",
       "    }\n",
       "</style>\n",
       "<table border=\"1\" class=\"dataframe\">\n",
       "  <thead>\n",
       "    <tr style=\"text-align: right;\">\n",
       "      <th></th>\n",
       "      <th>user_from</th>\n",
       "      <th>time</th>\n",
       "      <th>user_to</th>\n",
       "    </tr>\n",
       "  </thead>\n",
       "  <tbody>\n",
       "  </tbody>\n",
       "</table>\n",
       "</div>"
      ],
      "text/plain": [
       "Empty DataFrame\n",
       "Columns: [user_from, time, user_to]\n",
       "Index: []"
      ]
     },
     "execution_count": 6,
     "metadata": {},
     "output_type": "execute_result"
    }
   ],
   "source": [
    "c2a[c2a.user_from.isin(c2a.user_to)]"
   ]
  },
  {
   "cell_type": "code",
   "execution_count": 7,
   "metadata": {},
   "outputs": [
    {
     "data": {
      "text/html": [
       "<div>\n",
       "<style scoped>\n",
       "    .dataframe tbody tr th:only-of-type {\n",
       "        vertical-align: middle;\n",
       "    }\n",
       "\n",
       "    .dataframe tbody tr th {\n",
       "        vertical-align: top;\n",
       "    }\n",
       "\n",
       "    .dataframe thead th {\n",
       "        text-align: right;\n",
       "    }\n",
       "</style>\n",
       "<table border=\"1\" class=\"dataframe\">\n",
       "  <thead>\n",
       "    <tr style=\"text-align: right;\">\n",
       "      <th></th>\n",
       "      <th>user_from</th>\n",
       "      <th>time</th>\n",
       "      <th>user_to</th>\n",
       "    </tr>\n",
       "  </thead>\n",
       "  <tbody>\n",
       "  </tbody>\n",
       "</table>\n",
       "</div>"
      ],
      "text/plain": [
       "Empty DataFrame\n",
       "Columns: [user_from, time, user_to]\n",
       "Index: []"
      ]
     },
     "execution_count": 7,
     "metadata": {},
     "output_type": "execute_result"
    }
   ],
   "source": [
    "c2q[c2q.user_from.isin(c2q.user_to)]"
   ]
  },
  {
   "cell_type": "markdown",
   "metadata": {},
   "source": [
    "## Getting the graphs\n",
    "Now we've the dataframes containing:<br>\n",
    "```\tuser_from\ttime\tuser_to```<br>\n",
    "that are respectively the user id that has the interaction (comment or answer), the timestamp starting from the 15 Sep 2008 where this happened and the userid that has received it on it's action (answer or question).\n",
    "\n",
    "### Processing the dataframes\n",
    "\n",
    "1) When it's asked to build a graph for specific timestamps intuitivelly it's more convenient to **filter only the rows** where the time attribute is in the given range, so it'll be the first step.\n",
    "\n",
    "2) Once we have only the row of interest we need to estabilish how to connect the users, well it can be done using a weighted edge where the weight it's the number of interaction that two users had in the specific interval of time, so we'll pass from a dataframe with two user and one timestamp for each row to a dataframe with the two users of above and a counter that **counts the occurrencies for each pair**. This counter will be also the weight in the final graph.\n",
    "\n",
    "3) Once we've this data we've all, so the next step is to build a graph starting from it, we've done it **representing the graph as a dictionary** containing the adiacence list of each node that has exiting edges, and this structure is **wrapped into a more general class** called ```MyGraph``` that is built by a dataframe in the form (user, user, weight) and will the methods to implement functions for the part 2.\n",
    "\n",
    "## Examples\n",
    "In the following cells I'll show how most of these methods works"
   ]
  },
  {
   "cell_type": "code",
   "execution_count": 8,
   "metadata": {},
   "outputs": [
    {
     "data": {
      "text/html": [
       "<div>\n",
       "<style scoped>\n",
       "    .dataframe tbody tr th:only-of-type {\n",
       "        vertical-align: middle;\n",
       "    }\n",
       "\n",
       "    .dataframe tbody tr th {\n",
       "        vertical-align: top;\n",
       "    }\n",
       "\n",
       "    .dataframe thead th {\n",
       "        text-align: right;\n",
       "    }\n",
       "</style>\n",
       "<table border=\"1\" class=\"dataframe\">\n",
       "  <thead>\n",
       "    <tr style=\"text-align: right;\">\n",
       "      <th></th>\n",
       "      <th>user_from</th>\n",
       "      <th>time</th>\n",
       "      <th>user_to</th>\n",
       "    </tr>\n",
       "  </thead>\n",
       "  <tbody>\n",
       "    <tr>\n",
       "      <th>19205128</th>\n",
       "      <td>17389</td>\n",
       "      <td>1226534400</td>\n",
       "      <td>1444433689</td>\n",
       "    </tr>\n",
       "    <tr>\n",
       "      <th>19205129</th>\n",
       "      <td>5105044</td>\n",
       "      <td>1226534400</td>\n",
       "      <td>1443530974</td>\n",
       "    </tr>\n",
       "    <tr>\n",
       "      <th>19205130</th>\n",
       "      <td>929510</td>\n",
       "      <td>1226534400</td>\n",
       "      <td>1438280294</td>\n",
       "    </tr>\n",
       "    <tr>\n",
       "      <th>19205131</th>\n",
       "      <td>5179979</td>\n",
       "      <td>1226534400</td>\n",
       "      <td>1452019156</td>\n",
       "    </tr>\n",
       "    <tr>\n",
       "      <th>19205132</th>\n",
       "      <td>885189</td>\n",
       "      <td>1226534400</td>\n",
       "      <td>1438259025</td>\n",
       "    </tr>\n",
       "    <tr>\n",
       "      <th>...</th>\n",
       "      <td>...</td>\n",
       "      <td>...</td>\n",
       "      <td>...</td>\n",
       "    </tr>\n",
       "    <tr>\n",
       "      <th>20231193</th>\n",
       "      <td>141172</td>\n",
       "      <td>1227312000</td>\n",
       "      <td>1456018680</td>\n",
       "    </tr>\n",
       "    <tr>\n",
       "      <th>20231194</th>\n",
       "      <td>871050</td>\n",
       "      <td>1227312000</td>\n",
       "      <td>1454636399</td>\n",
       "    </tr>\n",
       "    <tr>\n",
       "      <th>20231195</th>\n",
       "      <td>5884566</td>\n",
       "      <td>1227312000</td>\n",
       "      <td>1454637029</td>\n",
       "    </tr>\n",
       "    <tr>\n",
       "      <th>20231196</th>\n",
       "      <td>4389062</td>\n",
       "      <td>1227312000</td>\n",
       "      <td>1454647251</td>\n",
       "    </tr>\n",
       "    <tr>\n",
       "      <th>20231197</th>\n",
       "      <td>3514144</td>\n",
       "      <td>1227312000</td>\n",
       "      <td>1456930060</td>\n",
       "    </tr>\n",
       "  </tbody>\n",
       "</table>\n",
       "<p>1026070 rows × 3 columns</p>\n",
       "</div>"
      ],
      "text/plain": [
       "          user_from        time     user_to\n",
       "19205128      17389  1226534400  1444433689\n",
       "19205129    5105044  1226534400  1443530974\n",
       "19205130     929510  1226534400  1438280294\n",
       "19205131    5179979  1226534400  1452019156\n",
       "19205132     885189  1226534400  1438259025\n",
       "...             ...         ...         ...\n",
       "20231193     141172  1227312000  1456018680\n",
       "20231194     871050  1227312000  1454636399\n",
       "20231195    5884566  1227312000  1454637029\n",
       "20231196    4389062  1227312000  1454647251\n",
       "20231197    3514144  1227312000  1456930060\n",
       "\n",
       "[1026070 rows x 3 columns]"
      ]
     },
     "execution_count": 8,
     "metadata": {},
     "output_type": "execute_result"
    }
   ],
   "source": [
    "filtered = functions.filter_dataframe_dates(c2q, date_range=('2008-11-13', '2008-11-23'))\n",
    "filtered"
   ]
  },
  {
   "cell_type": "code",
   "execution_count": 9,
   "metadata": {},
   "outputs": [
    {
     "name": "stdout",
     "output_type": "stream",
     "text": [
      "\tmin_timestamp: 1226534400 in_date: 2008-11-13 01:00:00\n",
      "\tmax_timestamp: 1227312000 in_date: 2008-11-22 01:00:00\n"
     ]
    }
   ],
   "source": [
    "print(f\"\\tmin_timestamp: {filtered.time.min()} in_date: {datetime.fromtimestamp(filtered.time.min())}\")\n",
    "print(f\"\\tmax_timestamp: {filtered.time.max()} in_date: {datetime.fromtimestamp(filtered.time.max())}\")"
   ]
  },
  {
   "cell_type": "code",
   "execution_count": 10,
   "metadata": {},
   "outputs": [
    {
     "data": {
      "text/html": [
       "<div>\n",
       "<style scoped>\n",
       "    .dataframe tbody tr th:only-of-type {\n",
       "        vertical-align: middle;\n",
       "    }\n",
       "\n",
       "    .dataframe tbody tr th {\n",
       "        vertical-align: top;\n",
       "    }\n",
       "\n",
       "    .dataframe thead th {\n",
       "        text-align: right;\n",
       "    }\n",
       "</style>\n",
       "<table border=\"1\" class=\"dataframe\">\n",
       "  <thead>\n",
       "    <tr style=\"text-align: right;\">\n",
       "      <th></th>\n",
       "      <th>user_from</th>\n",
       "      <th>user_to</th>\n",
       "      <th>time</th>\n",
       "    </tr>\n",
       "  </thead>\n",
       "  <tbody>\n",
       "    <tr>\n",
       "      <th>779730</th>\n",
       "      <td>5336818</td>\n",
       "      <td>1455852631</td>\n",
       "      <td>2</td>\n",
       "    </tr>\n",
       "    <tr>\n",
       "      <th>24483</th>\n",
       "      <td>62576</td>\n",
       "      <td>1454325288</td>\n",
       "      <td>2</td>\n",
       "    </tr>\n",
       "    <tr>\n",
       "      <th>789760</th>\n",
       "      <td>5355912</td>\n",
       "      <td>1442822575</td>\n",
       "      <td>2</td>\n",
       "    </tr>\n",
       "    <tr>\n",
       "      <th>684049</th>\n",
       "      <td>5165935</td>\n",
       "      <td>1452565553</td>\n",
       "      <td>1</td>\n",
       "    </tr>\n",
       "    <tr>\n",
       "      <th>684037</th>\n",
       "      <td>5165930</td>\n",
       "      <td>1438359378</td>\n",
       "      <td>1</td>\n",
       "    </tr>\n",
       "    <tr>\n",
       "      <th>...</th>\n",
       "      <td>...</td>\n",
       "      <td>...</td>\n",
       "      <td>...</td>\n",
       "    </tr>\n",
       "    <tr>\n",
       "      <th>342028</th>\n",
       "      <td>2026276</td>\n",
       "      <td>1440638002</td>\n",
       "      <td>1</td>\n",
       "    </tr>\n",
       "    <tr>\n",
       "      <th>342029</th>\n",
       "      <td>2026276</td>\n",
       "      <td>1440778413</td>\n",
       "      <td>1</td>\n",
       "    </tr>\n",
       "    <tr>\n",
       "      <th>342030</th>\n",
       "      <td>2026276</td>\n",
       "      <td>1440785486</td>\n",
       "      <td>1</td>\n",
       "    </tr>\n",
       "    <tr>\n",
       "      <th>342031</th>\n",
       "      <td>2026276</td>\n",
       "      <td>1441741834</td>\n",
       "      <td>1</td>\n",
       "    </tr>\n",
       "    <tr>\n",
       "      <th>1026066</th>\n",
       "      <td>6022243</td>\n",
       "      <td>1457254850</td>\n",
       "      <td>1</td>\n",
       "    </tr>\n",
       "  </tbody>\n",
       "</table>\n",
       "<p>1026067 rows × 3 columns</p>\n",
       "</div>"
      ],
      "text/plain": [
       "         user_from     user_to  time\n",
       "779730     5336818  1455852631     2\n",
       "24483        62576  1454325288     2\n",
       "789760     5355912  1442822575     2\n",
       "684049     5165935  1452565553     1\n",
       "684037     5165930  1438359378     1\n",
       "...            ...         ...   ...\n",
       "342028     2026276  1440638002     1\n",
       "342029     2026276  1440778413     1\n",
       "342030     2026276  1440785486     1\n",
       "342031     2026276  1441741834     1\n",
       "1026066    6022243  1457254850     1\n",
       "\n",
       "[1026067 rows x 3 columns]"
      ]
     },
     "execution_count": 10,
     "metadata": {},
     "output_type": "execute_result"
    }
   ],
   "source": [
    "weighted = functions.time_to_weight(filtered)\n",
    "weighted.sort_values(by='time', ascending=False)"
   ]
  },
  {
   "cell_type": "code",
   "execution_count": 11,
   "metadata": {},
   "outputs": [
    {
     "name": "stdout",
     "output_type": "stream",
     "text": [
      "Created a graph with 1160597 nodes\n"
     ]
    }
   ],
   "source": [
    "graph = functions.MyGraph(weighted)\n",
    "print(f\"Created a graph with {len(graph.nodes)} nodes\")"
   ]
  },
  {
   "cell_type": "markdown",
   "metadata": {},
   "source": [
    "## Putting all together\n",
    "\n",
    "We can now employee two functions of the [functions.py](functions.py) file that are usefull to create directly the graphs starting from the relative path of the csv file and the date_range over which filter the data:\n",
    "1) ```get_single_graph``` that returns a graph that refers to a single csv file\n",
    "2) ```get_global_graph``` that returns the graph that is the union f the three files. At this point is important to undestrand how to merge the edges and this is done by using three coefficients (one for type of edge) that multiplies the weight of the relative edges in the datasets. In this way we can merge the three graphs maybe saying that an answer to a question is a more important interaction than a comment to an answer that's an interaction more important to a comment to a question, so we can evaluate the first 3, the second 2 and the third 1.\n",
    "\n",
    "### WARNING!!!\n",
    "Using big time range will **drastically slow down** the execution"
   ]
  },
  {
   "cell_type": "code",
   "execution_count": 12,
   "metadata": {},
   "outputs": [
    {
     "name": "stdout",
     "output_type": "stream",
     "text": [
      "reading the files:\n",
      "\t-answer to questions: data/original/a2q_casted.csv\t-comment to answers: data/original/c2a_casted.csv\t-comment to questions: data/original/c2q_casted.csv\n",
      "done in 12.7s\n",
      "filtering the dataframes...\n",
      "done in 0.975s\n",
      "generating the weights\n",
      "- multiplying by the coefficients: [3, 2, 1]\n",
      "done in 0.78s\n",
      "putting all togheter, it may require some time...\n",
      "done in 1.491s\n",
      "retrieving the graph\n",
      "done in 12.699s tot time elapsed: 28.648\n"
     ]
    }
   ],
   "source": [
    "G = functions.get_global_graph(['data/original/a2q_casted.csv','data/original/c2a_casted.csv', 'data/original/c2q_casted.csv'], date_range=('2008-11-13', '2008-11-23'), coefficients=[3,2,1])"
   ]
  },
  {
   "cell_type": "code",
   "execution_count": 13,
   "metadata": {},
   "outputs": [
    {
     "name": "stdout",
     "output_type": "stream",
     "text": [
      "Reading the file: data/original/a2q_casted.csv\n",
      "done in 3.464s\n",
      "Retrieving the graph...\n",
      "done in 1.782s\n"
     ]
    }
   ],
   "source": [
    "g_partial = functions.get_single_graph('data/original/a2q_casted.csv', date_range=('2008-11-13', '2008-11-14'))"
   ]
  }
 ],
 "metadata": {
  "interpreter": {
   "hash": "2e3f86d80f9d4ea2c2a83e8f7b2349235d41b98d2c2cd154f6179deca092a54d"
  },
  "kernelspec": {
   "display_name": "Python 3",
   "language": "python",
   "name": "python3"
  },
  "language_info": {
   "codemirror_mode": {
    "name": "ipython",
    "version": 3
   },
   "file_extension": ".py",
   "mimetype": "text/x-python",
   "name": "python",
   "nbconvert_exporter": "python",
   "pygments_lexer": "ipython3",
   "version": "3.8.8"
  }
 },
 "nbformat": 4,
 "nbformat_minor": 2
}
